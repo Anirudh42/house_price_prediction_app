{
 "cells": [
  {
   "cell_type": "code",
   "execution_count": 46,
   "metadata": {},
   "outputs": [],
   "source": [
    "import pandas as pd\n",
    "from sklearn.model_selection import train_test_split\n",
    "from sklearn.linear_model import LinearRegression\n",
    "from sklearn.metrics import classification_report,mean_squared_error"
   ]
  },
  {
   "cell_type": "code",
   "execution_count": 2,
   "metadata": {},
   "outputs": [],
   "source": [
    "df = pd.read_csv(\"../data/train.csv\")"
   ]
  },
  {
   "cell_type": "code",
   "execution_count": 3,
   "metadata": {},
   "outputs": [
    {
     "data": {
      "text/html": [
       "<div>\n",
       "<style scoped>\n",
       "    .dataframe tbody tr th:only-of-type {\n",
       "        vertical-align: middle;\n",
       "    }\n",
       "\n",
       "    .dataframe tbody tr th {\n",
       "        vertical-align: top;\n",
       "    }\n",
       "\n",
       "    .dataframe thead th {\n",
       "        text-align: right;\n",
       "    }\n",
       "</style>\n",
       "<table border=\"1\" class=\"dataframe\">\n",
       "  <thead>\n",
       "    <tr style=\"text-align: right;\">\n",
       "      <th></th>\n",
       "      <th>Id</th>\n",
       "      <th>MSSubClass</th>\n",
       "      <th>MSZoning</th>\n",
       "      <th>LotFrontage</th>\n",
       "      <th>LotArea</th>\n",
       "      <th>Street</th>\n",
       "      <th>Alley</th>\n",
       "      <th>LotShape</th>\n",
       "      <th>LandContour</th>\n",
       "      <th>Utilities</th>\n",
       "      <th>...</th>\n",
       "      <th>PoolArea</th>\n",
       "      <th>PoolQC</th>\n",
       "      <th>Fence</th>\n",
       "      <th>MiscFeature</th>\n",
       "      <th>MiscVal</th>\n",
       "      <th>MoSold</th>\n",
       "      <th>YrSold</th>\n",
       "      <th>SaleType</th>\n",
       "      <th>SaleCondition</th>\n",
       "      <th>SalePrice</th>\n",
       "    </tr>\n",
       "  </thead>\n",
       "  <tbody>\n",
       "    <tr>\n",
       "      <td>0</td>\n",
       "      <td>1</td>\n",
       "      <td>60</td>\n",
       "      <td>RL</td>\n",
       "      <td>65.0</td>\n",
       "      <td>8450</td>\n",
       "      <td>Pave</td>\n",
       "      <td>NaN</td>\n",
       "      <td>Reg</td>\n",
       "      <td>Lvl</td>\n",
       "      <td>AllPub</td>\n",
       "      <td>...</td>\n",
       "      <td>0</td>\n",
       "      <td>NaN</td>\n",
       "      <td>NaN</td>\n",
       "      <td>NaN</td>\n",
       "      <td>0</td>\n",
       "      <td>2</td>\n",
       "      <td>2008</td>\n",
       "      <td>WD</td>\n",
       "      <td>Normal</td>\n",
       "      <td>208500</td>\n",
       "    </tr>\n",
       "    <tr>\n",
       "      <td>1</td>\n",
       "      <td>2</td>\n",
       "      <td>20</td>\n",
       "      <td>RL</td>\n",
       "      <td>80.0</td>\n",
       "      <td>9600</td>\n",
       "      <td>Pave</td>\n",
       "      <td>NaN</td>\n",
       "      <td>Reg</td>\n",
       "      <td>Lvl</td>\n",
       "      <td>AllPub</td>\n",
       "      <td>...</td>\n",
       "      <td>0</td>\n",
       "      <td>NaN</td>\n",
       "      <td>NaN</td>\n",
       "      <td>NaN</td>\n",
       "      <td>0</td>\n",
       "      <td>5</td>\n",
       "      <td>2007</td>\n",
       "      <td>WD</td>\n",
       "      <td>Normal</td>\n",
       "      <td>181500</td>\n",
       "    </tr>\n",
       "    <tr>\n",
       "      <td>2</td>\n",
       "      <td>3</td>\n",
       "      <td>60</td>\n",
       "      <td>RL</td>\n",
       "      <td>68.0</td>\n",
       "      <td>11250</td>\n",
       "      <td>Pave</td>\n",
       "      <td>NaN</td>\n",
       "      <td>IR1</td>\n",
       "      <td>Lvl</td>\n",
       "      <td>AllPub</td>\n",
       "      <td>...</td>\n",
       "      <td>0</td>\n",
       "      <td>NaN</td>\n",
       "      <td>NaN</td>\n",
       "      <td>NaN</td>\n",
       "      <td>0</td>\n",
       "      <td>9</td>\n",
       "      <td>2008</td>\n",
       "      <td>WD</td>\n",
       "      <td>Normal</td>\n",
       "      <td>223500</td>\n",
       "    </tr>\n",
       "    <tr>\n",
       "      <td>3</td>\n",
       "      <td>4</td>\n",
       "      <td>70</td>\n",
       "      <td>RL</td>\n",
       "      <td>60.0</td>\n",
       "      <td>9550</td>\n",
       "      <td>Pave</td>\n",
       "      <td>NaN</td>\n",
       "      <td>IR1</td>\n",
       "      <td>Lvl</td>\n",
       "      <td>AllPub</td>\n",
       "      <td>...</td>\n",
       "      <td>0</td>\n",
       "      <td>NaN</td>\n",
       "      <td>NaN</td>\n",
       "      <td>NaN</td>\n",
       "      <td>0</td>\n",
       "      <td>2</td>\n",
       "      <td>2006</td>\n",
       "      <td>WD</td>\n",
       "      <td>Abnorml</td>\n",
       "      <td>140000</td>\n",
       "    </tr>\n",
       "    <tr>\n",
       "      <td>4</td>\n",
       "      <td>5</td>\n",
       "      <td>60</td>\n",
       "      <td>RL</td>\n",
       "      <td>84.0</td>\n",
       "      <td>14260</td>\n",
       "      <td>Pave</td>\n",
       "      <td>NaN</td>\n",
       "      <td>IR1</td>\n",
       "      <td>Lvl</td>\n",
       "      <td>AllPub</td>\n",
       "      <td>...</td>\n",
       "      <td>0</td>\n",
       "      <td>NaN</td>\n",
       "      <td>NaN</td>\n",
       "      <td>NaN</td>\n",
       "      <td>0</td>\n",
       "      <td>12</td>\n",
       "      <td>2008</td>\n",
       "      <td>WD</td>\n",
       "      <td>Normal</td>\n",
       "      <td>250000</td>\n",
       "    </tr>\n",
       "  </tbody>\n",
       "</table>\n",
       "<p>5 rows × 81 columns</p>\n",
       "</div>"
      ],
      "text/plain": [
       "   Id  MSSubClass MSZoning  LotFrontage  LotArea Street Alley LotShape  \\\n",
       "0   1          60       RL         65.0     8450   Pave   NaN      Reg   \n",
       "1   2          20       RL         80.0     9600   Pave   NaN      Reg   \n",
       "2   3          60       RL         68.0    11250   Pave   NaN      IR1   \n",
       "3   4          70       RL         60.0     9550   Pave   NaN      IR1   \n",
       "4   5          60       RL         84.0    14260   Pave   NaN      IR1   \n",
       "\n",
       "  LandContour Utilities  ... PoolArea PoolQC Fence MiscFeature MiscVal MoSold  \\\n",
       "0         Lvl    AllPub  ...        0    NaN   NaN         NaN       0      2   \n",
       "1         Lvl    AllPub  ...        0    NaN   NaN         NaN       0      5   \n",
       "2         Lvl    AllPub  ...        0    NaN   NaN         NaN       0      9   \n",
       "3         Lvl    AllPub  ...        0    NaN   NaN         NaN       0      2   \n",
       "4         Lvl    AllPub  ...        0    NaN   NaN         NaN       0     12   \n",
       "\n",
       "  YrSold  SaleType  SaleCondition  SalePrice  \n",
       "0   2008        WD         Normal     208500  \n",
       "1   2007        WD         Normal     181500  \n",
       "2   2008        WD         Normal     223500  \n",
       "3   2006        WD        Abnorml     140000  \n",
       "4   2008        WD         Normal     250000  \n",
       "\n",
       "[5 rows x 81 columns]"
      ]
     },
     "execution_count": 3,
     "metadata": {},
     "output_type": "execute_result"
    }
   ],
   "source": [
    "df.head()"
   ]
  },
  {
   "cell_type": "code",
   "execution_count": 10,
   "metadata": {},
   "outputs": [
    {
     "data": {
      "text/plain": [
       "(1460, 81)"
      ]
     },
     "execution_count": 10,
     "metadata": {},
     "output_type": "execute_result"
    }
   ],
   "source": [
    "df.shape"
   ]
  },
  {
   "cell_type": "code",
   "execution_count": 12,
   "metadata": {},
   "outputs": [],
   "source": [
    "missing_value_cols = [col for col in df.columns if df[col].isnull().any()]"
   ]
  },
  {
   "cell_type": "code",
   "execution_count": 13,
   "metadata": {},
   "outputs": [],
   "source": [
    "cols_with_values = set(df.columns) - set(missing_value_cols)"
   ]
  },
  {
   "cell_type": "code",
   "execution_count": 15,
   "metadata": {
    "scrolled": true
   },
   "outputs": [
    {
     "data": {
      "text/plain": [
       "{'1stFlrSF',\n",
       " '2ndFlrSF',\n",
       " '3SsnPorch',\n",
       " 'BedroomAbvGr',\n",
       " 'BldgType',\n",
       " 'BsmtFinSF1',\n",
       " 'BsmtFinSF2',\n",
       " 'BsmtFullBath',\n",
       " 'BsmtHalfBath',\n",
       " 'BsmtUnfSF',\n",
       " 'CentralAir',\n",
       " 'Condition1',\n",
       " 'Condition2',\n",
       " 'EnclosedPorch',\n",
       " 'ExterCond',\n",
       " 'ExterQual',\n",
       " 'Exterior1st',\n",
       " 'Exterior2nd',\n",
       " 'Fireplaces',\n",
       " 'Foundation',\n",
       " 'FullBath',\n",
       " 'Functional',\n",
       " 'GarageArea',\n",
       " 'GarageCars',\n",
       " 'GrLivArea',\n",
       " 'HalfBath',\n",
       " 'Heating',\n",
       " 'HeatingQC',\n",
       " 'HouseStyle',\n",
       " 'Id',\n",
       " 'KitchenAbvGr',\n",
       " 'KitchenQual',\n",
       " 'LandContour',\n",
       " 'LandSlope',\n",
       " 'LotArea',\n",
       " 'LotConfig',\n",
       " 'LotShape',\n",
       " 'LowQualFinSF',\n",
       " 'MSSubClass',\n",
       " 'MSZoning',\n",
       " 'MiscVal',\n",
       " 'MoSold',\n",
       " 'Neighborhood',\n",
       " 'OpenPorchSF',\n",
       " 'OverallCond',\n",
       " 'OverallQual',\n",
       " 'PavedDrive',\n",
       " 'PoolArea',\n",
       " 'RoofMatl',\n",
       " 'RoofStyle',\n",
       " 'SaleCondition',\n",
       " 'SalePrice',\n",
       " 'SaleType',\n",
       " 'ScreenPorch',\n",
       " 'Street',\n",
       " 'TotRmsAbvGrd',\n",
       " 'TotalBsmtSF',\n",
       " 'Utilities',\n",
       " 'WoodDeckSF',\n",
       " 'YearBuilt',\n",
       " 'YearRemodAdd',\n",
       " 'YrSold'}"
      ]
     },
     "execution_count": 15,
     "metadata": {},
     "output_type": "execute_result"
    }
   ],
   "source": [
    "cols_with_values"
   ]
  },
  {
   "cell_type": "code",
   "execution_count": 20,
   "metadata": {
    "scrolled": true
   },
   "outputs": [
    {
     "data": {
      "text/plain": [
       "{'Id': 1,\n",
       " 'MSSubClass': 60,\n",
       " 'MSZoning': 'RL',\n",
       " 'LotFrontage': 65.0,\n",
       " 'LotArea': 8450,\n",
       " 'Street': 'Pave',\n",
       " 'Alley': nan,\n",
       " 'LotShape': 'Reg',\n",
       " 'LandContour': 'Lvl',\n",
       " 'Utilities': 'AllPub',\n",
       " 'LotConfig': 'Inside',\n",
       " 'LandSlope': 'Gtl',\n",
       " 'Neighborhood': 'CollgCr',\n",
       " 'Condition1': 'Norm',\n",
       " 'Condition2': 'Norm',\n",
       " 'BldgType': '1Fam',\n",
       " 'HouseStyle': '2Story',\n",
       " 'OverallQual': 7,\n",
       " 'OverallCond': 5,\n",
       " 'YearBuilt': 2003,\n",
       " 'YearRemodAdd': 2003,\n",
       " 'RoofStyle': 'Gable',\n",
       " 'RoofMatl': 'CompShg',\n",
       " 'Exterior1st': 'VinylSd',\n",
       " 'Exterior2nd': 'VinylSd',\n",
       " 'MasVnrType': 'BrkFace',\n",
       " 'MasVnrArea': 196.0,\n",
       " 'ExterQual': 'Gd',\n",
       " 'ExterCond': 'TA',\n",
       " 'Foundation': 'PConc',\n",
       " 'BsmtQual': 'Gd',\n",
       " 'BsmtCond': 'TA',\n",
       " 'BsmtExposure': 'No',\n",
       " 'BsmtFinType1': 'GLQ',\n",
       " 'BsmtFinSF1': 706,\n",
       " 'BsmtFinType2': 'Unf',\n",
       " 'BsmtFinSF2': 0,\n",
       " 'BsmtUnfSF': 150,\n",
       " 'TotalBsmtSF': 856,\n",
       " 'Heating': 'GasA',\n",
       " 'HeatingQC': 'Ex',\n",
       " 'CentralAir': 'Y',\n",
       " 'Electrical': 'SBrkr',\n",
       " '1stFlrSF': 856,\n",
       " '2ndFlrSF': 854,\n",
       " 'LowQualFinSF': 0,\n",
       " 'GrLivArea': 1710,\n",
       " 'BsmtFullBath': 1,\n",
       " 'BsmtHalfBath': 0,\n",
       " 'FullBath': 2,\n",
       " 'HalfBath': 1,\n",
       " 'BedroomAbvGr': 3,\n",
       " 'KitchenAbvGr': 1,\n",
       " 'KitchenQual': 'Gd',\n",
       " 'TotRmsAbvGrd': 8,\n",
       " 'Functional': 'Typ',\n",
       " 'Fireplaces': 0,\n",
       " 'FireplaceQu': nan,\n",
       " 'GarageType': 'Attchd',\n",
       " 'GarageYrBlt': 2003.0,\n",
       " 'GarageFinish': 'RFn',\n",
       " 'GarageCars': 2,\n",
       " 'GarageArea': 548,\n",
       " 'GarageQual': 'TA',\n",
       " 'GarageCond': 'TA',\n",
       " 'PavedDrive': 'Y',\n",
       " 'WoodDeckSF': 0,\n",
       " 'OpenPorchSF': 61,\n",
       " 'EnclosedPorch': 0,\n",
       " '3SsnPorch': 0,\n",
       " 'ScreenPorch': 0,\n",
       " 'PoolArea': 0,\n",
       " 'PoolQC': nan,\n",
       " 'Fence': nan,\n",
       " 'MiscFeature': nan,\n",
       " 'MiscVal': 0,\n",
       " 'MoSold': 2,\n",
       " 'YrSold': 2008,\n",
       " 'SaleType': 'WD',\n",
       " 'SaleCondition': 'Normal',\n",
       " 'SalePrice': 208500}"
      ]
     },
     "execution_count": 20,
     "metadata": {},
     "output_type": "execute_result"
    }
   ],
   "source": [
    "dict(df.iloc[0])"
   ]
  },
  {
   "cell_type": "code",
   "execution_count": 21,
   "metadata": {},
   "outputs": [
    {
     "data": {
      "text/plain": [
       "RL         1151\n",
       "RM          218\n",
       "FV           65\n",
       "RH           16\n",
       "C (all)      10\n",
       "Name: MSZoning, dtype: int64"
      ]
     },
     "execution_count": 21,
     "metadata": {},
     "output_type": "execute_result"
    }
   ],
   "source": [
    "df['MSZoning'].value_counts()"
   ]
  },
  {
   "cell_type": "code",
   "execution_count": 41,
   "metadata": {},
   "outputs": [],
   "source": [
    "df_train = df[['LotArea','BldgType','RoofMatl','TotalBsmtSF','SalePrice']].copy()"
   ]
  },
  {
   "cell_type": "code",
   "execution_count": 61,
   "metadata": {},
   "outputs": [],
   "source": [
    "df_train['BldgType'] = df_train['BldgType'].astype('category').cat.codes\n",
    "df_train['RoofMatl'] = df_train['RoofMatl'].astype('category').cat.codes"
   ]
  },
  {
   "cell_type": "code",
   "execution_count": 62,
   "metadata": {},
   "outputs": [],
   "source": [
    "X_train,X_test,y_train,y_test = train_test_split(df_train[['LotArea','BldgType','RoofMatl','TotalBsmtSF']],df_train['SalePrice'])"
   ]
  },
  {
   "cell_type": "code",
   "execution_count": 63,
   "metadata": {},
   "outputs": [
    {
     "data": {
      "text/plain": [
       "LotArea        12180\n",
       "BldgType           1\n",
       "RoofMatl           1\n",
       "TotalBsmtSF      672\n",
       "Name: 1144, dtype: int64"
      ]
     },
     "execution_count": 63,
     "metadata": {},
     "output_type": "execute_result"
    }
   ],
   "source": [
    "X_train.iloc[195]"
   ]
  },
  {
   "cell_type": "code",
   "execution_count": 45,
   "metadata": {},
   "outputs": [
    {
     "data": {
      "text/plain": [
       "LinearRegression(copy_X=True, fit_intercept=True, n_jobs=None, normalize=False)"
      ]
     },
     "execution_count": 45,
     "metadata": {},
     "output_type": "execute_result"
    }
   ],
   "source": [
    "ml_model = LinearRegression()\n",
    "ml_model.fit(X_train,y_train)"
   ]
  },
  {
   "cell_type": "code",
   "execution_count": 52,
   "metadata": {},
   "outputs": [
    {
     "data": {
      "text/plain": [
       "3053355488.6930194"
      ]
     },
     "execution_count": 52,
     "metadata": {},
     "output_type": "execute_result"
    }
   ],
   "source": [
    "mean_squared_error(y_test,reg_model.predict(X_test))"
   ]
  },
  {
   "cell_type": "code",
   "execution_count": 48,
   "metadata": {},
   "outputs": [],
   "source": [
    "import pickle"
   ]
  },
  {
   "cell_type": "code",
   "execution_count": 50,
   "metadata": {},
   "outputs": [],
   "source": [
    "with open(\"../ml_model/linear_reg_model.model\",\"wb\") as f:\n",
    "    pickle.dump(ml_model,f)"
   ]
  },
  {
   "cell_type": "code",
   "execution_count": 51,
   "metadata": {},
   "outputs": [],
   "source": [
    "with open(\"../ml_model/linear_reg_model.model\",\"rb\") as f:\n",
    "    reg_model = pickle.load(f)"
   ]
  },
  {
   "cell_type": "code",
   "execution_count": 69,
   "metadata": {},
   "outputs": [
    {
     "data": {
      "text/plain": [
       "0       CompShg\n",
       "1       CompShg\n",
       "2       CompShg\n",
       "3       CompShg\n",
       "4       CompShg\n",
       "         ...   \n",
       "1455    CompShg\n",
       "1456    CompShg\n",
       "1457    CompShg\n",
       "1458    CompShg\n",
       "1459    CompShg\n",
       "Name: RoofMatl, Length: 1460, dtype: object"
      ]
     },
     "execution_count": 69,
     "metadata": {},
     "output_type": "execute_result"
    }
   ],
   "source": [
    "df['RoofMatl']"
   ]
  },
  {
   "cell_type": "code",
   "execution_count": null,
   "metadata": {},
   "outputs": [],
   "source": []
  }
 ],
 "metadata": {
  "kernelspec": {
   "display_name": "Python 3",
   "language": "python",
   "name": "python3"
  },
  "language_info": {
   "codemirror_mode": {
    "name": "ipython",
    "version": 3
   },
   "file_extension": ".py",
   "mimetype": "text/x-python",
   "name": "python",
   "nbconvert_exporter": "python",
   "pygments_lexer": "ipython3",
   "version": "3.7.4"
  }
 },
 "nbformat": 4,
 "nbformat_minor": 2
}
